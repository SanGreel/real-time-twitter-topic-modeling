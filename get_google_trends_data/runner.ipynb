{
 "cells": [
  {
   "cell_type": "code",
   "execution_count": 1,
   "metadata": {
    "scrolled": true
   },
   "outputs": [],
   "source": [
    "import pandas as pd\n",
    "import datetime\n",
    "from pytrends.pytrends.request import TrendReq\n"
   ]
  },
  {
   "cell_type": "code",
   "execution_count": 3,
   "metadata": {},
   "outputs": [],
   "source": [
    "def merge_by_rising_and_top(df_rising, df_top):\n",
    "    len_rising = len(df_rising)\n",
    "    len_top = len(df_top)\n",
    "    \n",
    "    if len_rising < len_top:\n",
    "        for i in range(len_rising, len_top):\n",
    "            df_rising = df_rising.append(pd.Series(), ignore_index=True)\n",
    "    elif len_top < len_rising:\n",
    "        for i in range(len_top, len_rising):\n",
    "            df_top = df_top.append(pd.Series(), ignore_index=True)\n",
    "                        \n",
    "    df_rising.insert(1, df_top.columns[0], df_top[df_top.columns[0]].values, True)\n",
    "    df_rising.insert(3, df_top.columns[1], df_top[df_top.columns[1]].values, True)\n",
    "    \n",
    "    return df_rising\n",
    "    "
   ]
  },
  {
   "cell_type": "code",
   "execution_count": 7,
   "metadata": {},
   "outputs": [],
   "source": [
    "def acquire_top20_google_trends_per_day(geo, start_date, end_date, head_size):\n",
    "    pytrend = TrendReq()\n",
    "    \n",
    "    queries_df = pd.DataFrame()\n",
    "    topics_df = pd.DataFrame()\n",
    "    \n",
    "    current_date = start_date\n",
    "    while current_date <= end_date:\n",
    "        current_date_str = str(current_date)\n",
    "        timeframe = f\"{current_date_str} {current_date_str}\"\n",
    "        pytrend.build_payload(kw_list=[' '], geo=geo, timeframe=timeframe)\n",
    "        \n",
    "        df_queries_by_rising = pytrend.related_top_queries_by_rising()\n",
    "        df_queries_by_top = pytrend.related_top_queries_by_top()\n",
    "        df_queries_tmp = merge_by_rising_and_top(df_queries_by_rising, df_queries_by_top)\n",
    "    \n",
    "        df_queries_tmp.insert(loc=0, column='Date', value=current_date_str)\n",
    "        \n",
    "        df_topics_by_rising = pytrend.related_top_topics_by_rising()\n",
    "        df_topics_by_top = pytrend.related_top_topics_by_top()\n",
    "        df_topics_tmp = merge_by_rising_and_top(df_topics_by_rising, df_topics_by_top)\n",
    "\n",
    "        df_topics_tmp.insert(loc=0, column='Date', value=current_date_str)\n",
    "        \n",
    "        \n",
    "        #TODO: optimize it\n",
    "        queries_df = queries_df.append(df_queries_tmp.head(head_size))\n",
    "        topics_df = topics_df.append(df_topics_tmp.head(head_size))\n",
    "        \n",
    "        current_date += datetime.timedelta(days=1)\n",
    "        \n",
    "    topics_df.insert(loc=5, column='geo', value=geo)\n",
    "    queries_df.insert(loc=5, column='geo', value=geo)\n",
    "        \n",
    "    return topics_df, queries_df\n",
    "    "
   ]
  },
  {
   "cell_type": "code",
   "execution_count": 11,
   "metadata": {},
   "outputs": [],
   "source": [
    "def collect_top20_google_trends_per_day(geos, start_date, end_date, path):\n",
    "    for geo in geos:\n",
    "        topics_df, queries_df =  acquire_top20_google_trends_per_day(geo=geo, \n",
    "                                                                               start_date=start_date, \n",
    "                                                                               end_date=end_date,\n",
    "                                                                               head_size=15)\n",
    "        topics_df.to_csv(f\"{path}/google-trends-search-topics-{geo}.csv\", index=False)\n",
    "        queries_df.to_csv(f\"{path}/google-trends-search-queries-{geo}.csv\", index=False)"
   ]
  },
  {
   "cell_type": "code",
   "execution_count": 9,
   "metadata": {},
   "outputs": [],
   "source": [
    "data_path = \"../data/google-trends\""
   ]
  },
  {
   "cell_type": "code",
   "execution_count": 12,
   "metadata": {},
   "outputs": [],
   "source": [
    "collect_top20_google_trends_per_day(geos=['US', 'US-NY'], \n",
    "                                           start_date=datetime.date(2019, 5, 1), \n",
    "                                           end_date=datetime.datetime.now().date(),\n",
    "                                           path=data_path)"
   ]
  }
 ],
 "metadata": {
  "kernelspec": {
   "display_name": "Python 3",
   "language": "python",
   "name": "python3"
  },
  "language_info": {
   "codemirror_mode": {
    "name": "ipython",
    "version": 3
   },
   "file_extension": ".py",
   "mimetype": "text/x-python",
   "name": "python",
   "nbconvert_exporter": "python",
   "pygments_lexer": "ipython3",
   "version": "3.6.5"
  }
 },
 "nbformat": 4,
 "nbformat_minor": 1
}
