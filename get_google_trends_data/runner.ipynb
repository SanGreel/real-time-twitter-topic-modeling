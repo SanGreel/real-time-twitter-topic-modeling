{
 "cells": [
  {
   "cell_type": "code",
   "execution_count": 1,
   "metadata": {
    "scrolled": true
   },
   "outputs": [],
   "source": [
    "import pandas as pd\n",
    "import datetime\n",
    "from pytrends.pytrends.request import TrendReq\n"
   ]
  },
  {
   "cell_type": "code",
   "execution_count": 2,
   "metadata": {},
   "outputs": [],
   "source": [
    "def acquire_top20_google_trends_per_day_by_rising(geo, start_date, end_date):\n",
    "    pytrend = TrendReq()\n",
    "    \n",
    "    queries_df = pd.DataFrame()\n",
    "    topics_df = pd.DataFrame()\n",
    "    \n",
    "    current_date = start_date\n",
    "    while current_date <= end_date:\n",
    "        current_date_str = str(current_date)\n",
    "        timeframe = f\"{current_date_str} {current_date_str}\"\n",
    "        pytrend.build_payload(kw_list=[' '], geo=geo, timeframe=timeframe)\n",
    "        \n",
    "        queries_tmp_df = pytrend.related_top_queries_by_rising()\n",
    "        queries_tmp_df.insert(loc=0, column='Date', value=current_date_str)\n",
    "        \n",
    "        topics_tmp_df = pytrend.related_top_topics_by_rising()\n",
    "        topics_tmp_df.insert(loc=0, column='Date', value=current_date_str)\n",
    "        \n",
    "        #TODO: optimize it\n",
    "        queries_df = queries_df.append(queries_tmp_df.head(20))\n",
    "        topics_df = topics_df.append(topics_tmp_df.head(20))\n",
    "        \n",
    "        current_date += datetime.timedelta(days=1)\n",
    "        \n",
    "    return topics_df, queries_df\n",
    "    "
   ]
  },
  {
   "cell_type": "code",
   "execution_count": 3,
   "metadata": {},
   "outputs": [],
   "source": [
    "def acquire_top20_google_trends_per_day_by_top(geo, start_date, end_date):\n",
    "    pytrend = TrendReq()\n",
    "    \n",
    "    queries_df = pd.DataFrame()\n",
    "    topics_df = pd.DataFrame()\n",
    "    \n",
    "    current_date = start_date\n",
    "    while current_date <= end_date:\n",
    "        current_date_str = str(current_date)\n",
    "        timeframe = f\"{current_date_str} {current_date_str}\"\n",
    "        pytrend.build_payload(kw_list=[' '], geo=geo, timeframe=timeframe)\n",
    "        \n",
    "        queries_tmp_df = pytrend.related_top_queries_by_top()\n",
    "        queries_tmp_df.insert(loc=0, column='Date', value=current_date_str)\n",
    "        \n",
    "        topics_tmp_df = pytrend.related_top_topics_by_top()\n",
    "        topics_tmp_df.insert(loc=0, column='Date', value=current_date_str)\n",
    "        \n",
    "        #TODO: optimize it\n",
    "        queries_df = queries_df.append(queries_tmp_df.head(20))\n",
    "        topics_df = topics_df.append(topics_tmp_df.head(20))\n",
    "        \n",
    "        current_date += datetime.timedelta(days=1)\n",
    "        \n",
    "    return topics_df, queries_df"
   ]
  },
  {
   "cell_type": "code",
   "execution_count": 4,
   "metadata": {},
   "outputs": [],
   "source": [
    "def collect_top20_google_trends_per_day_by_rising(geos, start_date, end_date, path):\n",
    "    for geo in geos:\n",
    "        topics_df, queries_df =  acquire_top20_google_trends_per_day_by_rising(geo=geo, start_date=start_date, end_date=end_date)\n",
    "        topics_df.to_csv(f\"{path}/google-trends-search-topics-by-rising-{geo}.csv\", index=False)\n",
    "        queries_df.to_csv(f\"{path}/google-trends-search-queries-by-rising-{geo}.csv\", index=False)"
   ]
  },
  {
   "cell_type": "code",
   "execution_count": 5,
   "metadata": {},
   "outputs": [],
   "source": [
    "def collect_top20_google_trends_per_day_by_top(geos, start_date, end_date, path):\n",
    "    for geo in geos:\n",
    "        topics_df, queries_df =  acquire_top20_google_trends_per_day_by_top(geo=geo, start_date=start_date, end_date=end_date)\n",
    "        topics_df.to_csv(f\"{path}/google-trends-search-topics-by-top-{geo}.csv\", index=False)\n",
    "        queries_df.to_csv(f\"{path}/google-trends-search-queries-by-top-{geo}.csv\", index=False)"
   ]
  },
  {
   "cell_type": "code",
   "execution_count": 6,
   "metadata": {},
   "outputs": [],
   "source": [
    "data_path = \"../data/google-trends\""
   ]
  },
  {
   "cell_type": "code",
   "execution_count": 10,
   "metadata": {},
   "outputs": [],
   "source": [
    "collect_top20_google_trends_per_day_by_top(geos=['US', 'US-NY'], \n",
    "                                           start_date=datetime.date(2019, 5, 1), \n",
    "                                           end_date=datetime.datetime.now().date(),\n",
    "                                           path=data_path)"
   ]
  },
  {
   "cell_type": "code",
   "execution_count": 11,
   "metadata": {},
   "outputs": [],
   "source": [
    "collect_top20_google_trends_per_day_by_rising(geos=['US', 'US-NY'], \n",
    "                                    start_date=datetime.date(2019, 5, 1), \n",
    "                                    end_date=datetime.datetime.now().date(),\n",
    "                                             path=data_path)"
   ]
  }
 ],
 "metadata": {
  "kernelspec": {
   "display_name": "Python 3",
   "language": "python",
   "name": "python3"
  },
  "language_info": {
   "codemirror_mode": {
    "name": "ipython",
    "version": 3
   },
   "file_extension": ".py",
   "mimetype": "text/x-python",
   "name": "python",
   "nbconvert_exporter": "python",
   "pygments_lexer": "ipython3",
   "version": "3.6.5"
  }
 },
 "nbformat": 4,
 "nbformat_minor": 1
}
