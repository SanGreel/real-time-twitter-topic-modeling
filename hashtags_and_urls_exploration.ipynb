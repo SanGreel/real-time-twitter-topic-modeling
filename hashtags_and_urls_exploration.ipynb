{
 "cells": [
  {
   "cell_type": "code",
   "execution_count": 10,
   "metadata": {},
   "outputs": [],
   "source": [
    "import pandas as pd\n",
    "import re\n",
    "\n",
    "import matplotlib.pyplot as plt\n",
    "%matplotlib inline\n",
    "\n",
    "from utils.text_preprocessing import process_hashtags"
   ]
  },
  {
   "cell_type": "code",
   "execution_count": 11,
   "metadata": {},
   "outputs": [],
   "source": [
    "def process_urls(tweet):\n",
    "    urls = re.findall(r\"https(.+)\", tweet)\n",
    "    return urls\n"
   ]
  },
  {
   "cell_type": "markdown",
   "metadata": {},
   "source": [
    "### Load data"
   ]
  },
  {
   "cell_type": "code",
   "execution_count": 12,
   "metadata": {},
   "outputs": [
    {
     "data": {
      "text/plain": [
       "(332548, 4)"
      ]
     },
     "execution_count": 12,
     "metadata": {},
     "output_type": "execute_result"
    }
   ],
   "source": [
    "data = pd.read_csv('data/tweets/new_york_training_tweets_15_06.csv')\n",
    "data = data[['tweet', 'geo_location', 'country_code', 'screen_name']]\n",
    "data.shape"
   ]
  },
  {
   "cell_type": "markdown",
   "metadata": {},
   "source": [
    "### Filtering"
   ]
  },
  {
   "cell_type": "code",
   "execution_count": 13,
   "metadata": {},
   "outputs": [
    {
     "data": {
      "text/plain": [
       "(207183, 8)"
      ]
     },
     "execution_count": 13,
     "metadata": {},
     "output_type": "execute_result"
    }
   ],
   "source": [
    "data = data[data['country_code'] == 'US']\n",
    "\n",
    "data = data[data['geo_location'].isin([\n",
    "                         'Manhattan, NY', \n",
    "                         'Brooklyn, NY', \n",
    "                         'Queens, NY', \n",
    "                         'Bronx, NY', \n",
    "                         'Staten Island, NY'\n",
    "                         'New York, USA'\n",
    "                        ])]\n",
    "\n",
    "from utils.channels_to_filter import channels_not_to_consider\n",
    "data = data[~data['screen_name'].isin(channels_not_to_consider)]\n",
    "\n",
    "data['urls'] = data['tweet'].apply(lambda x: process_urls(x))\n",
    "data['urls_count'] = data['urls'].apply(lambda x: len(x))\n",
    "\n",
    "data['hashtags'] = data['tweet'].apply(lambda x: process_hashtags(x))\n",
    "data['hashtags_count'] = data['hashtags'].apply(lambda x: len(x))\n",
    "\n",
    "data.shape"
   ]
  },
  {
   "cell_type": "markdown",
   "metadata": {},
   "source": [
    "### Distribution of tweets by urls count"
   ]
  },
  {
   "cell_type": "code",
   "execution_count": 22,
   "metadata": {},
   "outputs": [
    {
     "data": {
      "image/png": "[encoded data removed]",
      "text/plain": [
       "<Figure size 720x360 with 1 Axes>"
      ]
     },
     "metadata": {},
     "output_type": "display_data"
    }
   ],
   "source": [
    "fig, ax = plt.subplots(figsize=(10, 5))\n",
    "_ = data[data['urls_count'] > 0]['urls_count'].hist(ax=ax)"
   ]
  },
  {
   "cell_type": "markdown",
   "metadata": {},
   "source": [
    "### Distribution of tweets by hashtags count"
   ]
  },
  {
   "cell_type": "code",
   "execution_count": 23,
   "metadata": {},
   "outputs": [
    {
     "data": {
      "image/png": "[encoded data removed]",
      "text/plain": [
       "<Figure size 720x360 with 1 Axes>"
      ]
     },
     "metadata": {},
     "output_type": "display_data"
    }
   ],
   "source": [
    "fig, ax = plt.subplots(figsize=(10, 5))\n",
    "_ = data[data['hashtags_count'] > 0]['hashtags_count'].hist(ax=ax)"
   ]
  },
  {
   "cell_type": "code",
   "execution_count": 24,
   "metadata": {},
   "outputs": [],
   "source": [
    "data_with_urls = data[data['urls_count'] > 0]\n",
    "data_with_hashtags = data[data['hashtags_count'] > 0]"
   ]
  },
  {
   "cell_type": "markdown",
   "metadata": {},
   "source": [
    "### Some useful info"
   ]
  },
  {
   "cell_type": "code",
   "execution_count": 29,
   "metadata": {},
   "outputs": [
    {
     "name": "stdout",
     "output_type": "stream",
     "text": [
      "Ratio tweets with / without hashtags: 12.14%\n",
      "Average number of hashtags in tweet: 2.26\n",
      "Num hashtags: 56715\n",
      "Num unique hashtags: 23186\n"
     ]
    }
   ],
   "source": [
    "hashtags = []\n",
    "for hashtag in data['hashtags']:\n",
    "    hashtags.extend(hashtag)\n",
    "unique_hashtags = pd.unique(hashtags).tolist()\n",
    "\n",
    "print('Ratio tweets with / without hashtags: {:.2f}%'.format(data_with_hashtags.shape[0]/data.shape[0]*100))\n",
    "print('Average number of hashtags in tweet: {:.2f}'.format(data_with_hashtags['hashtags_count'].mean()))\n",
    "print('Num hashtags: {}'.format(len(hashtags)))\n",
    "print('Num unique hashtags: {}'.format(len(unique_hashtags)))"
   ]
  },
  {
   "cell_type": "code",
   "execution_count": 30,
   "metadata": {},
   "outputs": [
    {
     "name": "stdout",
     "output_type": "stream",
     "text": [
      "Ratio tweets with / without urls: 37.64%\n",
      "Average number of urls in tweet: 1.00\n",
      "Num urls: 78316\n"
     ]
    }
   ],
   "source": [
    "urls = []\n",
    "for url in data['urls']:\n",
    "    urls.extend(url)\n",
    "\n",
    "print('Ratio tweets with / without urls: {:.2f}%'.format(data_with_urls.shape[0]/data.shape[0]*100))\n",
    "print('Average number of urls in tweet: {:.2f}'.format(data_with_urls['urls_count'].mean()))\n",
    "print('Num urls: {}'.format(len(urls)))"
   ]
  },
  {
   "cell_type": "markdown",
   "metadata": {},
   "source": [
    "### Test performance"
   ]
  },
  {
   "cell_type": "code",
   "execution_count": 48,
   "metadata": {},
   "outputs": [],
   "source": [
    "from utils.text_preprocessing import process_urls"
   ]
  },
  {
   "cell_type": "markdown",
   "metadata": {},
   "source": [
    "** 1 tweet **"
   ]
  },
  {
   "cell_type": "code",
   "execution_count": 58,
   "metadata": {},
   "outputs": [],
   "source": [
    "sample = data_with_urls.iloc[-3:-2]"
   ]
  },
  {
   "cell_type": "code",
   "execution_count": 59,
   "metadata": {},
   "outputs": [
    {
     "name": "stdout",
     "output_type": "stream",
     "text": [
      "243 ms ± 8.14 ms per loop (mean ± std. dev. of 7 runs, 1 loop each)\n"
     ]
    }
   ],
   "source": [
    "%timeit sample['tweet'].apply(lambda x: process_urls(x))"
   ]
  },
  {
   "cell_type": "markdown",
   "metadata": {},
   "source": [
    "** 10 tweets **"
   ]
  },
  {
   "cell_type": "code",
   "execution_count": 60,
   "metadata": {},
   "outputs": [],
   "source": [
    "sample = data_with_urls.iloc[-10:]"
   ]
  },
  {
   "cell_type": "code",
   "execution_count": 61,
   "metadata": {},
   "outputs": [
    {
     "name": "stdout",
     "output_type": "stream",
     "text": [
      "4.64 s ± 214 ms per loop (mean ± std. dev. of 7 runs, 1 loop each)\n"
     ]
    }
   ],
   "source": [
    "%timeit sample['tweet'].apply(lambda x: process_urls(x))"
   ]
  },
  {
   "cell_type": "code",
   "execution_count": null,
   "metadata": {},
   "outputs": [],
   "source": []
  }
 ],
 "metadata": {
  "kernelspec": {
   "display_name": "Python 3",
   "language": "python",
   "name": "python3"
  },
  "language_info": {
   "codemirror_mode": {
    "name": "ipython",
    "version": 3
   },
   "file_extension": ".py",
   "mimetype": "text/x-python",
   "name": "python",
   "nbconvert_exporter": "python",
   "pygments_lexer": "ipython3",
   "version": "3.6.5"
  }
 },
 "nbformat": 4,
 "nbformat_minor": 2
}
