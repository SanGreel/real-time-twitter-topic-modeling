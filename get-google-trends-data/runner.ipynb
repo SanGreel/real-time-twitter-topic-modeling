{
 "cells": [
  {
   "cell_type": "code",
   "execution_count": 4,
   "metadata": {},
   "outputs": [
    {
     "ename": "ModuleNotFoundError",
     "evalue": "No module named 'pytrends.request'",
     "output_type": "error",
     "traceback": [
      "\u001b[0;31m---------------------------------------------------------------------------\u001b[0m",
      "\u001b[0;31mModuleNotFoundError\u001b[0m                       Traceback (most recent call last)",
      "\u001b[0;32m<ipython-input-4-26ade379342f>\u001b[0m in \u001b[0;36m<module>\u001b[0;34m()\u001b[0m\n\u001b[1;32m      1\u001b[0m \u001b[0;32mimport\u001b[0m \u001b[0mpandas\u001b[0m \u001b[0;32mas\u001b[0m \u001b[0mpd\u001b[0m\u001b[0;34m\u001b[0m\u001b[0m\n\u001b[1;32m      2\u001b[0m \u001b[0;32mimport\u001b[0m \u001b[0mdatetime\u001b[0m\u001b[0;34m\u001b[0m\u001b[0m\n\u001b[0;32m----> 3\u001b[0;31m \u001b[0;32mfrom\u001b[0m \u001b[0mpytrends\u001b[0m\u001b[0;34m.\u001b[0m\u001b[0mrequest\u001b[0m \u001b[0;32mimport\u001b[0m \u001b[0mTrendReq\u001b[0m\u001b[0;34m\u001b[0m\u001b[0m\n\u001b[0m",
      "\u001b[0;31mModuleNotFoundError\u001b[0m: No module named 'pytrends.request'"
     ]
    }
   ],
   "source": [
    "import pandas as pd\n",
    "import datetime\n",
    "from pytrends.request import TrendReq\n"
   ]
  },
  {
   "cell_type": "code",
   "execution_count": 2,
   "metadata": {},
   "outputs": [
    {
     "name": "stdout",
     "output_type": "stream",
     "text": [
      "pytrends  read-example.ipynb  runner.ipynb\r\n"
     ]
    }
   ],
   "source": [
    "!ls"
   ]
  },
  {
   "cell_type": "code",
   "execution_count": 8,
   "metadata": {},
   "outputs": [],
   "source": [
    "def acquire_top20_google_trends_per_day(geo, start_date, end_date):\n",
    "    pytrend = TrendReq()\n",
    "    \n",
    "    queries_df = pd.DataFrame()\n",
    "    topics_df = pd.DataFrame()\n",
    "    \n",
    "    current_date = start_date\n",
    "    while current_date <= end_date:\n",
    "        current_date_str = str(current_date)\n",
    "        timeframe = f\"{current_date_str} {current_date_str}\"\n",
    "        pytrend.build_payload(kw_list=[' '], geo=geo, timeframe=timeframe)\n",
    "        \n",
    "        queries_tmp_df = pytrend.related_top_queries()\n",
    "        queries_tmp_df.insert(loc=0, column='Date', value=current_date_str)\n",
    "        \n",
    "        topics_tmp_df = pytrend.related_top_topics()\n",
    "        topics_tmp_df.insert(loc=0, column='Date', value=current_date_str)\n",
    "        \n",
    "        #TODO: optimize it\n",
    "        queries_df = queries_df.append(queries_tmp_df.head(20))\n",
    "        topics_df = topics_df.append(topics_tmp_df.head(20))\n",
    "        \n",
    "        current_date += datetime.timedelta(days=1)\n",
    "        \n",
    "    return topics_df, queries_df\n",
    "\n",
    "\n",
    "    "
   ]
  },
  {
   "cell_type": "code",
   "execution_count": 9,
   "metadata": {},
   "outputs": [],
   "source": [
    "def collect_top20_google_trends_per_day(geos, start_date, end_date):\n",
    "    for geo in geos:\n",
    "        topics_df, queries_df =  acquire_top20_google_trends_per_day(geo=geo, start_date=start_date, end_date=end_date)\n",
    "        topics_df.to_csv(f\"./data/google-trends-search-topics-{geo}.csv\", index=False)\n",
    "        queries_df.to_csv(f\"./data/google-trends-search-queries-{geo}.csv\", index=False)"
   ]
  },
  {
   "cell_type": "code",
   "execution_count": 10,
   "metadata": {},
   "outputs": [],
   "source": [
    "collect_top20_google_trends_per_day(geos=['US', 'US-NY', 'US-CA-807'], \n",
    "                                    start_date=datetime.date(2019, 5, 1), \n",
    "                                    end_date=datetime.datetime.now().date())"
   ]
  }
 ],
 "metadata": {
  "kernelspec": {
   "display_name": "Python 3",
   "language": "python",
   "name": "python3"
  },
  "language_info": {
   "codemirror_mode": {
    "name": "ipython",
    "version": 3
   },
   "file_extension": ".py",
   "mimetype": "text/x-python",
   "name": "python",
   "nbconvert_exporter": "python",
   "pygments_lexer": "ipython3",
   "version": "3.6.5"
  }
 },
 "nbformat": 4,
 "nbformat_minor": 1
}
