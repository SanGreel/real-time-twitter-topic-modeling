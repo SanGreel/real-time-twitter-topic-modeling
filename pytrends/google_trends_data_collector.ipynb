{
  "cells": [
    {
      "cell_type": "code",
      "execution_count": 1,
      "metadata": {
        "scrolled": true,
        "pycharm": {}
      },
      "outputs": [],
      "source": "import pandas as pd\nimport datetime\nfrom pytrends.request import TrendReq\n"
    },
    {
      "cell_type": "code",
      "execution_count": 3,
      "metadata": {
        "pycharm": {}
      },
      "outputs": [],
      "source": [
        "def merge_by_rising_and_top(df_rising, df_top):\n",
        "    len_rising \u003d len(df_rising)\n",
        "    len_top \u003d len(df_top)\n",
        "    \n",
        "    if len_rising \u003c len_top:\n",
        "        for i in range(len_rising, len_top):\n",
        "            df_rising \u003d df_rising.append(pd.Series(), ignore_index\u003dTrue)\n",
        "    elif len_top \u003c len_rising:\n",
        "        for i in range(len_top, len_rising):\n",
        "            df_top \u003d df_top.append(pd.Series(), ignore_index\u003dTrue)\n",
        "                        \n",
        "    df_rising.insert(1, df_top.columns[0], df_top[df_top.columns[0]].values, True)\n",
        "    df_rising.insert(3, df_top.columns[1], df_top[df_top.columns[1]].values, True)\n",
        "    \n",
        "    return df_rising\n",
        "    "
      ]
    },
    {
      "cell_type": "code",
      "execution_count": 7,
      "metadata": {
        "pycharm": {}
      },
      "outputs": [],
      "source": [
        "def acquire_top20_google_trends_per_day(geo, start_date, end_date, head_size):\n",
        "    pytrend \u003d TrendReq()\n",
        "    \n",
        "    queries_df \u003d pd.DataFrame()\n",
        "    topics_df \u003d pd.DataFrame()\n",
        "    \n",
        "    current_date \u003d start_date\n",
        "    while current_date \u003c\u003d end_date:\n",
        "        current_date_str \u003d str(current_date)\n",
        "        timeframe \u003d f\"{current_date_str} {current_date_str}\"\n",
        "        pytrend.build_payload(kw_list\u003d[\u0027 \u0027], geo\u003dgeo, timeframe\u003dtimeframe)\n",
        "        \n",
        "        df_queries_by_rising \u003d pytrend.related_top_queries_by_rising()\n",
        "        df_queries_by_top \u003d pytrend.related_top_queries_by_top()\n",
        "        df_queries_tmp \u003d merge_by_rising_and_top(df_queries_by_rising, df_queries_by_top)\n",
        "    \n",
        "        df_queries_tmp.insert(loc\u003d0, column\u003d\u0027Date\u0027, value\u003dcurrent_date_str)\n",
        "        \n",
        "        df_topics_by_rising \u003d pytrend.related_top_topics_by_rising()\n",
        "        df_topics_by_top \u003d pytrend.related_top_topics_by_top()\n",
        "        df_topics_tmp \u003d merge_by_rising_and_top(df_topics_by_rising, df_topics_by_top)\n",
        "\n",
        "        df_topics_tmp.insert(loc\u003d0, column\u003d\u0027Date\u0027, value\u003dcurrent_date_str)\n",
        "        \n",
        "        \n",
        "        #TODO: optimize it\n",
        "        queries_df \u003d queries_df.append(df_queries_tmp.head(head_size))\n",
        "        topics_df \u003d topics_df.append(df_topics_tmp.head(head_size))\n",
        "        \n",
        "        current_date +\u003d datetime.timedelta(days\u003d1)\n",
        "        \n",
        "    topics_df.insert(loc\u003d5, column\u003d\u0027geo\u0027, value\u003dgeo)\n",
        "    queries_df.insert(loc\u003d5, column\u003d\u0027geo\u0027, value\u003dgeo)\n",
        "        \n",
        "    return topics_df, queries_df\n",
        "    "
      ]
    },
    {
      "cell_type": "code",
      "execution_count": 11,
      "metadata": {
        "pycharm": {}
      },
      "outputs": [],
      "source": [
        "def collect_top20_google_trends_per_day(geos, start_date, end_date, path):\n",
        "    for geo in geos:\n",
        "        topics_df, queries_df \u003d  acquire_top20_google_trends_per_day(geo\u003dgeo, \n",
        "                                                                               start_date\u003dstart_date, \n",
        "                                                                               end_date\u003dend_date,\n",
        "                                                                               head_size\u003d15)\n",
        "        topics_df.to_csv(f\"{path}/google-trends-search-topics-{geo}.csv\", index\u003dFalse)\n",
        "        queries_df.to_csv(f\"{path}/google-trends-search-queries-{geo}.csv\", index\u003dFalse)"
      ]
    },
    {
      "cell_type": "code",
      "execution_count": 9,
      "metadata": {
        "pycharm": {}
      },
      "outputs": [],
      "source": [
        "data_path \u003d \"../data/google-trends\""
      ]
    },
    {
      "cell_type": "code",
      "execution_count": 12,
      "metadata": {
        "pycharm": {}
      },
      "outputs": [],
      "source": [
        "collect_top20_google_trends_per_day(geos\u003d[\u0027US\u0027, \u0027US-NY\u0027], \n",
        "                                           start_date\u003ddatetime.date(2019, 5, 1), \n",
        "                                           end_date\u003ddatetime.datetime.now().date(),\n",
        "                                           path\u003ddata_path)"
      ]
    }
  ],
  "metadata": {
    "kernelspec": {
      "display_name": "Python 3",
      "language": "python",
      "name": "python3"
    },
    "language_info": {
      "codemirror_mode": {
        "name": "ipython",
        "version": 3
      },
      "file_extension": ".py",
      "mimetype": "text/x-python",
      "name": "python",
      "nbconvert_exporter": "python",
      "pygments_lexer": "ipython3",
      "version": "3.6.5"
    }
  },
  "nbformat": 4,
  "nbformat_minor": 1
}